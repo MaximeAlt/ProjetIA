{
 "cells": [
  {
   "cell_type": "markdown",
   "id": "54658070",
   "metadata": {},
   "source": [
    "# Transformation données avec mediapipe"
   ]
  },
  {
   "cell_type": "code",
   "execution_count": 1,
   "id": "0198ee26",
   "metadata": {},
   "outputs": [],
   "source": [
    "import numpy as np\n",
    "import pandas as pd\n",
    "import mediapipe as mp\n",
    "import os\n",
    "import cv2\n",
    "from PIL import Image\n",
    "import csv"
   ]
  },
  {
   "cell_type": "markdown",
   "id": "50b66132",
   "metadata": {},
   "source": [
    "Le jeu de donnée utilisé est composé de 72 000 photos (200*200 pixel) classées dans 24 dossiers par signes représentés"
   ]
  },
  {
   "cell_type": "code",
   "execution_count": 17,
   "id": "e18f78d4",
   "metadata": {},
   "outputs": [],
   "source": [
    "# on créer une liste des dossiers à consulter et on élimine 3 catégories (del, nothing et space)\n",
    "label = ['A', 'B', 'C', 'D', 'E', 'F', 'G', 'H', 'I', 'K', 'L', 'M', 'N', 'O', 'P', 'Q', 'R', 'S', 'T', 'U', 'V', 'W', 'X', 'Y']\n",
    "#on parametre la bibliothèque hands de mediapipe\n",
    "mp_hands = mp.solutions.hands\n",
    "hands = mp_hands.Hands(static_image_mode=True, max_num_hands=1, min_detection_confidence=0.3)\n",
    "\n",
    "for l in label:   \n",
    "    dataset_directory_prefix = 'C:/Users/Maxime.ALTER/ProjetIA/ProjetIA/Dev_tib/photos_asl/asl_alphabet_train/asl_alphabet_train/'\n",
    "    #dataset_directory_prefix = r'C:/Users/Panah/OneDrive/Bureau/data/asl_alphabet_train/asl_alphabet_train/'\n",
    "    \n",
    "    for dirname, _, filenames in os.walk(dataset_directory_prefix + l):\n",
    "        \n",
    "        for filename in filenames:\n",
    "            \n",
    "            #on viens lire les images dans leurs dossier respectifs\n",
    "            pathname = os.path.join(dirname, filename)\n",
    "            image = cv2.imread(pathname)\n",
    "            image = cv2.flip(image, 1)         \n",
    "            #on process l'image avec la librairie hand\n",
    "            results = hands.process(cv2.cvtColor(image, cv2.COLOR_BGR2RGB))\n",
    "            #On stocke la première lettre du nom du fichier qui servira pour créer le label\n",
    "            coord_list = [filename[0]]\n",
    "            target = []\n",
    "            \n",
    "            #On récupère l'indice de la lettre dans notre liste de label, qui deviendra notre target\n",
    "            for letter in coord_list : \n",
    "                if letter in label:\n",
    "                    target.append(label.index(letter))\n",
    "                         \n",
    "\n",
    "            if results.multi_hand_landmarks:                             \n",
    "                \n",
    "                for hand_no, hand_landmarks in enumerate(results.multi_hand_landmarks):\n",
    "                    #print(f'HAND NUMBER: {hand_no+1}')\n",
    "                    #print('-----------------------')\n",
    "                    \n",
    "                    #On parcours les 21 landmarks pour récupèrer les valeurs x, y et z et les stocker dans notre liste                    \n",
    "                    for i in range(21):\n",
    "                        name = mp_hands.HandLandmark(i).name\n",
    "                        x = hand_landmarks.landmark[mp_hands.HandLandmark(i).value].x\n",
    "                        y = hand_landmarks.landmark[mp_hands.HandLandmark(i).value].y\n",
    "                        z = hand_landmarks.landmark[mp_hands.HandLandmark(i).value].z\n",
    "                        \n",
    "                        #coord_list.append(name)\n",
    "                        target.append(x)\n",
    "                        target.append(y)\n",
    "                        target.append(z)\n",
    "                    \n",
    "                    #A chaque image, on écrit une ligne dans un csv contenant la target suivis coordonnées x, y et z des 21 landmarks\n",
    "                    \n",
    "                    with open(r'C:/Users/Maxime.ALTER/ProjetIA/ProjetIA/Dev_max/landmark.csv', 'a', newline='') as csvfile:\n",
    "                        writer = csv.writer(csvfile)\n",
    "                        writer.writerow(target)"
   ]
  }
 ],
 "metadata": {
  "kernelspec": {
   "display_name": "Python 3 (ipykernel)",
   "language": "python",
   "name": "python3"
  },
  "language_info": {
   "codemirror_mode": {
    "name": "ipython",
    "version": 3
   },
   "file_extension": ".py",
   "mimetype": "text/x-python",
   "name": "python",
   "nbconvert_exporter": "python",
   "pygments_lexer": "ipython3",
   "version": "3.9.13"
  }
 },
 "nbformat": 4,
 "nbformat_minor": 5
}
