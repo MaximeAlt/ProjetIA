{
 "cells": [
  {
   "cell_type": "markdown",
   "id": "5bda76e1",
   "metadata": {},
   "source": [
    "# ANN"
   ]
  },
  {
   "cell_type": "code",
   "execution_count": 2,
   "id": "a84c9fbe",
   "metadata": {},
   "outputs": [],
   "source": [
    "import numpy as np\n",
    "import pandas as pd\n",
    "from tensorflow import keras\n",
    "from keras.layers import Dense,Dropout\n",
    "from keras import Sequential"
   ]
  },
  {
   "cell_type": "code",
   "execution_count": 4,
   "id": "d5992526",
   "metadata": {},
   "outputs": [
    {
     "data": {
      "text/html": [
       "<div>\n",
       "<style scoped>\n",
       "    .dataframe tbody tr th:only-of-type {\n",
       "        vertical-align: middle;\n",
       "    }\n",
       "\n",
       "    .dataframe tbody tr th {\n",
       "        vertical-align: top;\n",
       "    }\n",
       "\n",
       "    .dataframe thead th {\n",
       "        text-align: right;\n",
       "    }\n",
       "</style>\n",
       "<table border=\"1\" class=\"dataframe\">\n",
       "  <thead>\n",
       "    <tr style=\"text-align: right;\">\n",
       "      <th></th>\n",
       "      <th>label</th>\n",
       "      <th>pixel1</th>\n",
       "      <th>pixel2</th>\n",
       "      <th>pixel3</th>\n",
       "      <th>pixel4</th>\n",
       "      <th>pixel5</th>\n",
       "      <th>pixel6</th>\n",
       "      <th>pixel7</th>\n",
       "      <th>pixel8</th>\n",
       "      <th>pixel9</th>\n",
       "      <th>...</th>\n",
       "      <th>pixel775</th>\n",
       "      <th>pixel776</th>\n",
       "      <th>pixel777</th>\n",
       "      <th>pixel778</th>\n",
       "      <th>pixel779</th>\n",
       "      <th>pixel780</th>\n",
       "      <th>pixel781</th>\n",
       "      <th>pixel782</th>\n",
       "      <th>pixel783</th>\n",
       "      <th>pixel784</th>\n",
       "    </tr>\n",
       "  </thead>\n",
       "  <tbody>\n",
       "    <tr>\n",
       "      <th>0</th>\n",
       "      <td>6</td>\n",
       "      <td>149</td>\n",
       "      <td>149</td>\n",
       "      <td>150</td>\n",
       "      <td>150</td>\n",
       "      <td>150</td>\n",
       "      <td>151</td>\n",
       "      <td>151</td>\n",
       "      <td>150</td>\n",
       "      <td>151</td>\n",
       "      <td>...</td>\n",
       "      <td>138</td>\n",
       "      <td>148</td>\n",
       "      <td>127</td>\n",
       "      <td>89</td>\n",
       "      <td>82</td>\n",
       "      <td>96</td>\n",
       "      <td>106</td>\n",
       "      <td>112</td>\n",
       "      <td>120</td>\n",
       "      <td>107</td>\n",
       "    </tr>\n",
       "    <tr>\n",
       "      <th>1</th>\n",
       "      <td>5</td>\n",
       "      <td>126</td>\n",
       "      <td>128</td>\n",
       "      <td>131</td>\n",
       "      <td>132</td>\n",
       "      <td>133</td>\n",
       "      <td>134</td>\n",
       "      <td>135</td>\n",
       "      <td>135</td>\n",
       "      <td>136</td>\n",
       "      <td>...</td>\n",
       "      <td>47</td>\n",
       "      <td>104</td>\n",
       "      <td>194</td>\n",
       "      <td>183</td>\n",
       "      <td>186</td>\n",
       "      <td>184</td>\n",
       "      <td>184</td>\n",
       "      <td>184</td>\n",
       "      <td>182</td>\n",
       "      <td>180</td>\n",
       "    </tr>\n",
       "    <tr>\n",
       "      <th>2</th>\n",
       "      <td>10</td>\n",
       "      <td>85</td>\n",
       "      <td>88</td>\n",
       "      <td>92</td>\n",
       "      <td>96</td>\n",
       "      <td>105</td>\n",
       "      <td>123</td>\n",
       "      <td>135</td>\n",
       "      <td>143</td>\n",
       "      <td>147</td>\n",
       "      <td>...</td>\n",
       "      <td>68</td>\n",
       "      <td>166</td>\n",
       "      <td>242</td>\n",
       "      <td>227</td>\n",
       "      <td>230</td>\n",
       "      <td>227</td>\n",
       "      <td>226</td>\n",
       "      <td>225</td>\n",
       "      <td>224</td>\n",
       "      <td>222</td>\n",
       "    </tr>\n",
       "    <tr>\n",
       "      <th>3</th>\n",
       "      <td>0</td>\n",
       "      <td>203</td>\n",
       "      <td>205</td>\n",
       "      <td>207</td>\n",
       "      <td>206</td>\n",
       "      <td>207</td>\n",
       "      <td>209</td>\n",
       "      <td>210</td>\n",
       "      <td>209</td>\n",
       "      <td>210</td>\n",
       "      <td>...</td>\n",
       "      <td>154</td>\n",
       "      <td>248</td>\n",
       "      <td>247</td>\n",
       "      <td>248</td>\n",
       "      <td>253</td>\n",
       "      <td>236</td>\n",
       "      <td>230</td>\n",
       "      <td>240</td>\n",
       "      <td>253</td>\n",
       "      <td>255</td>\n",
       "    </tr>\n",
       "    <tr>\n",
       "      <th>4</th>\n",
       "      <td>3</td>\n",
       "      <td>188</td>\n",
       "      <td>191</td>\n",
       "      <td>193</td>\n",
       "      <td>195</td>\n",
       "      <td>199</td>\n",
       "      <td>201</td>\n",
       "      <td>202</td>\n",
       "      <td>203</td>\n",
       "      <td>203</td>\n",
       "      <td>...</td>\n",
       "      <td>26</td>\n",
       "      <td>40</td>\n",
       "      <td>64</td>\n",
       "      <td>48</td>\n",
       "      <td>29</td>\n",
       "      <td>46</td>\n",
       "      <td>49</td>\n",
       "      <td>46</td>\n",
       "      <td>46</td>\n",
       "      <td>53</td>\n",
       "    </tr>\n",
       "    <tr>\n",
       "      <th>...</th>\n",
       "      <td>...</td>\n",
       "      <td>...</td>\n",
       "      <td>...</td>\n",
       "      <td>...</td>\n",
       "      <td>...</td>\n",
       "      <td>...</td>\n",
       "      <td>...</td>\n",
       "      <td>...</td>\n",
       "      <td>...</td>\n",
       "      <td>...</td>\n",
       "      <td>...</td>\n",
       "      <td>...</td>\n",
       "      <td>...</td>\n",
       "      <td>...</td>\n",
       "      <td>...</td>\n",
       "      <td>...</td>\n",
       "      <td>...</td>\n",
       "      <td>...</td>\n",
       "      <td>...</td>\n",
       "      <td>...</td>\n",
       "      <td>...</td>\n",
       "    </tr>\n",
       "    <tr>\n",
       "      <th>7167</th>\n",
       "      <td>1</td>\n",
       "      <td>135</td>\n",
       "      <td>119</td>\n",
       "      <td>108</td>\n",
       "      <td>102</td>\n",
       "      <td>105</td>\n",
       "      <td>99</td>\n",
       "      <td>61</td>\n",
       "      <td>103</td>\n",
       "      <td>121</td>\n",
       "      <td>...</td>\n",
       "      <td>108</td>\n",
       "      <td>112</td>\n",
       "      <td>116</td>\n",
       "      <td>114</td>\n",
       "      <td>118</td>\n",
       "      <td>180</td>\n",
       "      <td>184</td>\n",
       "      <td>176</td>\n",
       "      <td>167</td>\n",
       "      <td>163</td>\n",
       "    </tr>\n",
       "    <tr>\n",
       "      <th>7168</th>\n",
       "      <td>12</td>\n",
       "      <td>157</td>\n",
       "      <td>159</td>\n",
       "      <td>161</td>\n",
       "      <td>164</td>\n",
       "      <td>166</td>\n",
       "      <td>166</td>\n",
       "      <td>171</td>\n",
       "      <td>174</td>\n",
       "      <td>175</td>\n",
       "      <td>...</td>\n",
       "      <td>213</td>\n",
       "      <td>213</td>\n",
       "      <td>213</td>\n",
       "      <td>214</td>\n",
       "      <td>213</td>\n",
       "      <td>211</td>\n",
       "      <td>210</td>\n",
       "      <td>210</td>\n",
       "      <td>209</td>\n",
       "      <td>208</td>\n",
       "    </tr>\n",
       "    <tr>\n",
       "      <th>7169</th>\n",
       "      <td>2</td>\n",
       "      <td>190</td>\n",
       "      <td>191</td>\n",
       "      <td>190</td>\n",
       "      <td>191</td>\n",
       "      <td>190</td>\n",
       "      <td>190</td>\n",
       "      <td>192</td>\n",
       "      <td>192</td>\n",
       "      <td>191</td>\n",
       "      <td>...</td>\n",
       "      <td>216</td>\n",
       "      <td>215</td>\n",
       "      <td>213</td>\n",
       "      <td>214</td>\n",
       "      <td>214</td>\n",
       "      <td>213</td>\n",
       "      <td>210</td>\n",
       "      <td>211</td>\n",
       "      <td>209</td>\n",
       "      <td>208</td>\n",
       "    </tr>\n",
       "    <tr>\n",
       "      <th>7170</th>\n",
       "      <td>4</td>\n",
       "      <td>201</td>\n",
       "      <td>205</td>\n",
       "      <td>208</td>\n",
       "      <td>209</td>\n",
       "      <td>214</td>\n",
       "      <td>216</td>\n",
       "      <td>218</td>\n",
       "      <td>223</td>\n",
       "      <td>226</td>\n",
       "      <td>...</td>\n",
       "      <td>112</td>\n",
       "      <td>169</td>\n",
       "      <td>255</td>\n",
       "      <td>255</td>\n",
       "      <td>237</td>\n",
       "      <td>113</td>\n",
       "      <td>91</td>\n",
       "      <td>67</td>\n",
       "      <td>70</td>\n",
       "      <td>63</td>\n",
       "    </tr>\n",
       "    <tr>\n",
       "      <th>7171</th>\n",
       "      <td>2</td>\n",
       "      <td>173</td>\n",
       "      <td>174</td>\n",
       "      <td>173</td>\n",
       "      <td>174</td>\n",
       "      <td>173</td>\n",
       "      <td>173</td>\n",
       "      <td>175</td>\n",
       "      <td>175</td>\n",
       "      <td>174</td>\n",
       "      <td>...</td>\n",
       "      <td>201</td>\n",
       "      <td>200</td>\n",
       "      <td>197</td>\n",
       "      <td>198</td>\n",
       "      <td>198</td>\n",
       "      <td>197</td>\n",
       "      <td>195</td>\n",
       "      <td>195</td>\n",
       "      <td>193</td>\n",
       "      <td>192</td>\n",
       "    </tr>\n",
       "  </tbody>\n",
       "</table>\n",
       "<p>7172 rows × 785 columns</p>\n",
       "</div>"
      ],
      "text/plain": [
       "      label  pixel1  pixel2  pixel3  pixel4  pixel5  pixel6  pixel7  pixel8  \\\n",
       "0         6     149     149     150     150     150     151     151     150   \n",
       "1         5     126     128     131     132     133     134     135     135   \n",
       "2        10      85      88      92      96     105     123     135     143   \n",
       "3         0     203     205     207     206     207     209     210     209   \n",
       "4         3     188     191     193     195     199     201     202     203   \n",
       "...     ...     ...     ...     ...     ...     ...     ...     ...     ...   \n",
       "7167      1     135     119     108     102     105      99      61     103   \n",
       "7168     12     157     159     161     164     166     166     171     174   \n",
       "7169      2     190     191     190     191     190     190     192     192   \n",
       "7170      4     201     205     208     209     214     216     218     223   \n",
       "7171      2     173     174     173     174     173     173     175     175   \n",
       "\n",
       "      pixel9  ...  pixel775  pixel776  pixel777  pixel778  pixel779  pixel780  \\\n",
       "0        151  ...       138       148       127        89        82        96   \n",
       "1        136  ...        47       104       194       183       186       184   \n",
       "2        147  ...        68       166       242       227       230       227   \n",
       "3        210  ...       154       248       247       248       253       236   \n",
       "4        203  ...        26        40        64        48        29        46   \n",
       "...      ...  ...       ...       ...       ...       ...       ...       ...   \n",
       "7167     121  ...       108       112       116       114       118       180   \n",
       "7168     175  ...       213       213       213       214       213       211   \n",
       "7169     191  ...       216       215       213       214       214       213   \n",
       "7170     226  ...       112       169       255       255       237       113   \n",
       "7171     174  ...       201       200       197       198       198       197   \n",
       "\n",
       "      pixel781  pixel782  pixel783  pixel784  \n",
       "0          106       112       120       107  \n",
       "1          184       184       182       180  \n",
       "2          226       225       224       222  \n",
       "3          230       240       253       255  \n",
       "4           49        46        46        53  \n",
       "...        ...       ...       ...       ...  \n",
       "7167       184       176       167       163  \n",
       "7168       210       210       209       208  \n",
       "7169       210       211       209       208  \n",
       "7170        91        67        70        63  \n",
       "7171       195       195       193       192  \n",
       "\n",
       "[7172 rows x 785 columns]"
      ]
     },
     "execution_count": 4,
     "metadata": {},
     "output_type": "execute_result"
    }
   ],
   "source": [
    "test = pd.read_csv(r'C:\\Users\\Maxime.ALTER\\ProjetIA\\ProjetIA\\Raw_data\\sign_mnist_test.csv')\n",
    "train = pd.read_csv(r'C:\\Users\\Maxime.ALTER\\ProjetIA\\ProjetIA\\Raw_data\\sign_mnist_train.csv')\n",
    "test"
   ]
  },
  {
   "cell_type": "code",
   "execution_count": 5,
   "id": "c602b004",
   "metadata": {},
   "outputs": [],
   "source": [
    "class_names = ['A', 'B', 'C', 'D', 'E', 'F', 'G', 'H', 'I', 'J', 'K', 'L', 'M', \n",
    "               'N', 'O', 'P', 'Q', 'R', 'S', 'T', 'U', 'V', 'W', 'X', 'Y' ]"
   ]
  },
  {
   "cell_type": "code",
   "execution_count": 7,
   "id": "a8016499",
   "metadata": {},
   "outputs": [],
   "source": [
    "X_train=train.drop(columns=[\"label\"])\n",
    "y_train=train[\"label\"]\n",
    "y_train=keras.utils.to_categorical(y_train,25)\n",
    "X_test=test.drop(columns=[\"label\"])\n",
    "y_test=test[\"label\"]\n",
    "y_test=keras.utils.to_categorical(y_test)"
   ]
  },
  {
   "cell_type": "code",
   "execution_count": 9,
   "id": "fb553583",
   "metadata": {},
   "outputs": [
    {
     "data": {
      "text/plain": [
       "array([[149., 149., 150., ..., 112., 120., 107.],\n",
       "       [126., 128., 131., ..., 184., 182., 180.],\n",
       "       [ 85.,  88.,  92., ..., 225., 224., 222.],\n",
       "       ...,\n",
       "       [190., 191., 190., ..., 211., 209., 208.],\n",
       "       [201., 205., 208., ...,  67.,  70.,  63.],\n",
       "       [173., 174., 173., ..., 195., 193., 192.]], dtype=float32)"
      ]
     },
     "execution_count": 9,
     "metadata": {},
     "output_type": "execute_result"
    }
   ],
   "source": [
    "X_train=np.array(X_train,dtype=\"float32\")\n",
    "X_test=np.array(X_test,dtype=\"float32\")\n",
    "X_test"
   ]
  },
  {
   "cell_type": "code",
   "execution_count": 10,
   "id": "7a7b949c",
   "metadata": {},
   "outputs": [
    {
     "data": {
      "text/plain": [
       "array([[0.58431375, 0.58431375, 0.5882353 , ..., 0.4392157 , 0.47058824,\n",
       "        0.41960785],\n",
       "       [0.49411765, 0.5019608 , 0.5137255 , ..., 0.72156864, 0.7137255 ,\n",
       "        0.7058824 ],\n",
       "       [0.33333334, 0.34509805, 0.36078432, ..., 0.88235295, 0.8784314 ,\n",
       "        0.87058824],\n",
       "       ...,\n",
       "       [0.74509805, 0.7490196 , 0.74509805, ..., 0.827451  , 0.81960785,\n",
       "        0.8156863 ],\n",
       "       [0.7882353 , 0.8039216 , 0.8156863 , ..., 0.2627451 , 0.27450982,\n",
       "        0.24705882],\n",
       "       [0.6784314 , 0.68235296, 0.6784314 , ..., 0.7647059 , 0.75686276,\n",
       "        0.7529412 ]], dtype=float32)"
      ]
     },
     "execution_count": 10,
     "metadata": {},
     "output_type": "execute_result"
    }
   ],
   "source": [
    "X_train/=255\n",
    "X_test/=255\n",
    "X_test"
   ]
  },
  {
   "cell_type": "code",
   "execution_count": 13,
   "id": "d9cc2f71",
   "metadata": {},
   "outputs": [
    {
     "name": "stdout",
     "output_type": "stream",
     "text": [
      "X_train shape(27455, 784)\n",
      "X_test shape(7172, 784)\n"
     ]
    }
   ],
   "source": [
    "print(\"X_train shape\" +  str(X_train.shape))\n",
    "print(\"X_test shape\" +  str(X_test.shape))"
   ]
  },
  {
   "cell_type": "code",
   "execution_count": 15,
   "id": "351a409e",
   "metadata": {
    "scrolled": true
   },
   "outputs": [
    {
     "name": "stdout",
     "output_type": "stream",
     "text": [
      "[0. 0. 0. 0. 0. 0. 1. 0. 0. 0. 0. 0. 0. 0. 0. 0. 0. 0. 0. 0. 0. 0. 0. 0.\n",
      " 0.]\n"
     ]
    },
    {
     "data": {
      "image/png": "[encoded data removed]",
      "text/plain": [
       "<Figure size 432x288 with 1 Axes>"
      ]
     },
     "metadata": {
      "needs_background": "light"
     },
     "output_type": "display_data"
    }
   ],
   "source": [
    "import matplotlib.pyplot as plt\n",
    "%matplotlib inline\n",
    "plt.imshow(X_train[5].reshape(28,28) ,cmap=\"gray\")\n",
    "print(y_train[1])"
   ]
  },
  {
   "cell_type": "code",
   "execution_count": 19,
   "id": "400cf903",
   "metadata": {},
   "outputs": [],
   "source": [
    "model=Sequential()\n",
    "model.add(Dense(512,activation=\"relu\",input_shape=(784,),name=\"first_layer\"))\n",
    "model.add(Dropout(0.2))\n",
    "model.add(Dense(256,activation=\"relu\",name=\"second_layer\"))\n",
    "model.add(Dropout(0.2))\n",
    "model.add(Dense(128,activation=\"relu\",name=\"third_layer\"))\n",
    "model.add(Dropout(0.2))\n",
    "model.add(Dense(64,activation=\"relu\",name=\"fourth_layer\"))\n",
    "model.add(Dropout(0.2))\n",
    "model.add(Dense(25,activation=\"softmax\",name=\"output_layer\"))"
   ]
  },
  {
   "cell_type": "code",
   "execution_count": 20,
   "id": "0c295626",
   "metadata": {},
   "outputs": [],
   "source": [
    "model.compile(optimizer=\"adam\",loss=\"categorical_crossentropy\",metrics=[\"accuracy\"])"
   ]
  },
  {
   "cell_type": "code",
   "execution_count": 21,
   "id": "1fdd9aac",
   "metadata": {
    "collapsed": true
   },
   "outputs": [
    {
     "name": "stdout",
     "output_type": "stream",
     "text": [
      "Epoch 1/50\n",
      "220/220 [==============================] - 3s 9ms/step - loss: 2.9847 - accuracy: 0.0910 - val_loss: 2.2967 - val_accuracy: 0.2400\n",
      "Epoch 2/50\n",
      "220/220 [==============================] - 2s 8ms/step - loss: 2.1139 - accuracy: 0.2828 - val_loss: 1.5373 - val_accuracy: 0.4808\n",
      "Epoch 3/50\n",
      "220/220 [==============================] - 2s 8ms/step - loss: 1.6612 - accuracy: 0.4271 - val_loss: 1.2893 - val_accuracy: 0.5341\n",
      "Epoch 4/50\n",
      "220/220 [==============================] - 2s 8ms/step - loss: 1.4197 - accuracy: 0.5018 - val_loss: 1.0797 - val_accuracy: 0.6148\n",
      "Epoch 5/50\n",
      "220/220 [==============================] - 2s 8ms/step - loss: 1.2910 - accuracy: 0.5414 - val_loss: 0.9464 - val_accuracy: 0.6680\n",
      "Epoch 6/50\n",
      "220/220 [==============================] - 2s 8ms/step - loss: 1.1716 - accuracy: 0.5836 - val_loss: 0.8585 - val_accuracy: 0.7019\n",
      "Epoch 7/50\n",
      "220/220 [==============================] - 2s 8ms/step - loss: 1.0518 - accuracy: 0.6260 - val_loss: 0.6946 - val_accuracy: 0.7632\n",
      "Epoch 8/50\n",
      "220/220 [==============================] - 2s 8ms/step - loss: 0.9756 - accuracy: 0.6473 - val_loss: 0.7268 - val_accuracy: 0.7365\n",
      "Epoch 9/50\n",
      "220/220 [==============================] - 2s 9ms/step - loss: 0.9741 - accuracy: 0.6544 - val_loss: 0.6515 - val_accuracy: 0.7807\n",
      "Epoch 10/50\n",
      "220/220 [==============================] - 2s 10ms/step - loss: 0.9365 - accuracy: 0.6641 - val_loss: 0.5281 - val_accuracy: 0.8297\n",
      "Epoch 11/50\n",
      "220/220 [==============================] - 2s 10ms/step - loss: 0.8442 - accuracy: 0.7027 - val_loss: 0.5435 - val_accuracy: 0.8024\n",
      "Epoch 12/50\n",
      "220/220 [==============================] - 2s 10ms/step - loss: 0.7932 - accuracy: 0.7162 - val_loss: 0.4105 - val_accuracy: 0.8829\n",
      "Epoch 13/50\n",
      "220/220 [==============================] - 2s 9ms/step - loss: 0.7547 - accuracy: 0.7317 - val_loss: 0.4078 - val_accuracy: 0.8630\n",
      "Epoch 14/50\n",
      "220/220 [==============================] - 2s 9ms/step - loss: 0.7177 - accuracy: 0.7478 - val_loss: 0.3341 - val_accuracy: 0.8982\n",
      "Epoch 15/50\n",
      "220/220 [==============================] - 2s 9ms/step - loss: 0.7290 - accuracy: 0.7502 - val_loss: 0.3891 - val_accuracy: 0.8793\n",
      "Epoch 16/50\n",
      "220/220 [==============================] - 2s 9ms/step - loss: 0.6542 - accuracy: 0.7693 - val_loss: 0.3132 - val_accuracy: 0.8995\n",
      "Epoch 17/50\n",
      "220/220 [==============================] - 2s 9ms/step - loss: 0.6065 - accuracy: 0.7876 - val_loss: 0.2754 - val_accuracy: 0.9170\n",
      "Epoch 18/50\n",
      "220/220 [==============================] - 2s 10ms/step - loss: 0.5909 - accuracy: 0.7955 - val_loss: 0.2716 - val_accuracy: 0.9159\n",
      "Epoch 19/50\n",
      "220/220 [==============================] - 2s 10ms/step - loss: 0.5844 - accuracy: 0.7991 - val_loss: 0.2205 - val_accuracy: 0.9399\n",
      "Epoch 20/50\n",
      "220/220 [==============================] - 2s 10ms/step - loss: 0.5767 - accuracy: 0.8046 - val_loss: 0.2220 - val_accuracy: 0.9392\n",
      "Epoch 21/50\n",
      "220/220 [==============================] - 2s 9ms/step - loss: 0.5767 - accuracy: 0.8052 - val_loss: 0.2192 - val_accuracy: 0.9383\n",
      "Epoch 22/50\n",
      "220/220 [==============================] - 2s 9ms/step - loss: 0.5308 - accuracy: 0.8203 - val_loss: 0.2090 - val_accuracy: 0.9455\n",
      "Epoch 23/50\n",
      "220/220 [==============================] - 2s 9ms/step - loss: 0.5158 - accuracy: 0.8253 - val_loss: 0.2851 - val_accuracy: 0.9095\n",
      "Epoch 24/50\n",
      "220/220 [==============================] - 2s 10ms/step - loss: 0.5182 - accuracy: 0.8260 - val_loss: 0.1571 - val_accuracy: 0.9605\n",
      "Epoch 25/50\n",
      "220/220 [==============================] - 2s 9ms/step - loss: 0.4935 - accuracy: 0.8348 - val_loss: 0.1513 - val_accuracy: 0.9621\n",
      "Epoch 26/50\n",
      "220/220 [==============================] - 2s 10ms/step - loss: 0.4791 - accuracy: 0.8391 - val_loss: 0.2028 - val_accuracy: 0.9388\n",
      "Epoch 27/50\n",
      "220/220 [==============================] - 2s 11ms/step - loss: 0.4610 - accuracy: 0.8445 - val_loss: 0.2190 - val_accuracy: 0.9359\n",
      "Epoch 28/50\n",
      "220/220 [==============================] - 2s 10ms/step - loss: 0.4639 - accuracy: 0.8459 - val_loss: 0.2170 - val_accuracy: 0.9370\n",
      "Epoch 29/50\n",
      "220/220 [==============================] - 2s 10ms/step - loss: 0.5326 - accuracy: 0.8261 - val_loss: 0.1305 - val_accuracy: 0.9661\n",
      "Epoch 30/50\n",
      "220/220 [==============================] - 2s 10ms/step - loss: 0.4507 - accuracy: 0.8496 - val_loss: 0.0999 - val_accuracy: 0.9811\n",
      "Epoch 31/50\n",
      "220/220 [==============================] - 2s 10ms/step - loss: 0.4058 - accuracy: 0.8653 - val_loss: 0.0858 - val_accuracy: 0.9794\n",
      "Epoch 32/50\n",
      "220/220 [==============================] - 2s 9ms/step - loss: 0.4201 - accuracy: 0.8610 - val_loss: 0.0971 - val_accuracy: 0.9765\n",
      "Epoch 33/50\n",
      "220/220 [==============================] - 2s 10ms/step - loss: 0.3738 - accuracy: 0.8737 - val_loss: 0.1055 - val_accuracy: 0.9650\n",
      "Epoch 34/50\n",
      "220/220 [==============================] - 2s 10ms/step - loss: 0.3979 - accuracy: 0.8676 - val_loss: 0.0880 - val_accuracy: 0.9825\n",
      "Epoch 35/50\n",
      "220/220 [==============================] - 2s 10ms/step - loss: 0.3946 - accuracy: 0.8702 - val_loss: 0.0943 - val_accuracy: 0.9769\n",
      "Epoch 36/50\n",
      "220/220 [==============================] - 2s 10ms/step - loss: 0.4233 - accuracy: 0.8609 - val_loss: 0.1034 - val_accuracy: 0.9765\n",
      "Epoch 37/50\n",
      "220/220 [==============================] - 2s 10ms/step - loss: 0.3355 - accuracy: 0.8905 - val_loss: 0.0676 - val_accuracy: 0.9852\n",
      "Epoch 38/50\n",
      "220/220 [==============================] - 2s 9ms/step - loss: 0.3550 - accuracy: 0.8821 - val_loss: 0.0761 - val_accuracy: 0.9772\n",
      "Epoch 39/50\n",
      "220/220 [==============================] - 2s 9ms/step - loss: 0.3919 - accuracy: 0.8728 - val_loss: 0.0894 - val_accuracy: 0.9847\n",
      "Epoch 40/50\n",
      "220/220 [==============================] - 2s 10ms/step - loss: 0.3616 - accuracy: 0.8812 - val_loss: 0.0889 - val_accuracy: 0.9807\n",
      "Epoch 41/50\n",
      "220/220 [==============================] - 2s 10ms/step - loss: 0.3774 - accuracy: 0.8791 - val_loss: 0.0958 - val_accuracy: 0.9751\n",
      "Epoch 42/50\n",
      "220/220 [==============================] - 2s 10ms/step - loss: 0.3826 - accuracy: 0.8768 - val_loss: 0.0840 - val_accuracy: 0.9787\n",
      "Epoch 43/50\n",
      "220/220 [==============================] - 2s 10ms/step - loss: 0.3774 - accuracy: 0.8755 - val_loss: 0.0770 - val_accuracy: 0.9792\n",
      "Epoch 44/50\n",
      "220/220 [==============================] - 2s 9ms/step - loss: 0.3663 - accuracy: 0.8785 - val_loss: 0.0914 - val_accuracy: 0.9749\n",
      "Epoch 45/50\n",
      "220/220 [==============================] - 2s 9ms/step - loss: 0.3616 - accuracy: 0.8826 - val_loss: 0.1488 - val_accuracy: 0.9516\n",
      "Epoch 46/50\n",
      "220/220 [==============================] - 2s 9ms/step - loss: 0.3402 - accuracy: 0.8915 - val_loss: 0.0927 - val_accuracy: 0.9729\n",
      "Epoch 47/50\n",
      "220/220 [==============================] - 2s 9ms/step - loss: 0.3483 - accuracy: 0.8874 - val_loss: 0.0544 - val_accuracy: 0.9900\n",
      "Epoch 48/50\n",
      "220/220 [==============================] - 2s 10ms/step - loss: 0.3124 - accuracy: 0.8986 - val_loss: 0.0864 - val_accuracy: 0.9751\n",
      "Epoch 49/50\n",
      "220/220 [==============================] - 2s 10ms/step - loss: 0.3228 - accuracy: 0.8937 - val_loss: 0.0670 - val_accuracy: 0.9852\n",
      "Epoch 50/50\n",
      "220/220 [==============================] - 2s 10ms/step - loss: 0.3599 - accuracy: 0.8857 - val_loss: 0.1559 - val_accuracy: 0.9479\n"
     ]
    }
   ],
   "source": [
    "training=model.fit(X_train,y_train,epochs=50,batch_size=100,validation_split=0.2)"
   ]
  },
  {
   "cell_type": "code",
   "execution_count": 22,
   "id": "02eb849a",
   "metadata": {},
   "outputs": [
    {
     "name": "stdout",
     "output_type": "stream",
     "text": [
      "Model: \"sequential_2\"\n",
      "_________________________________________________________________\n",
      " Layer (type)                Output Shape              Param #   \n",
      "=================================================================\n",
      " first_layer (Dense)         (None, 512)               401920    \n",
      "                                                                 \n",
      " dropout_8 (Dropout)         (None, 512)               0         \n",
      "                                                                 \n",
      " second_layer (Dense)        (None, 256)               131328    \n",
      "                                                                 \n",
      " dropout_9 (Dropout)         (None, 256)               0         \n",
      "                                                                 \n",
      " third_layer (Dense)         (None, 128)               32896     \n",
      "                                                                 \n",
      " dropout_10 (Dropout)        (None, 128)               0         \n",
      "                                                                 \n",
      " fourth_layer (Dense)        (None, 64)                8256      \n",
      "                                                                 \n",
      " dropout_11 (Dropout)        (None, 64)                0         \n",
      "                                                                 \n",
      " output_layer (Dense)        (None, 25)                1625      \n",
      "                                                                 \n",
      "=================================================================\n",
      "Total params: 576,025\n",
      "Trainable params: 576,025\n",
      "Non-trainable params: 0\n",
      "_________________________________________________________________\n"
     ]
    }
   ],
   "source": [
    "model.summary()"
   ]
  },
  {
   "cell_type": "code",
   "execution_count": null,
   "id": "5fd6cbc1",
   "metadata": {},
   "outputs": [],
   "source": []
  },
  {
   "cell_type": "code",
   "execution_count": 23,
   "id": "3bc452fa",
   "metadata": {},
   "outputs": [
    {
     "data": {
      "text/plain": [
       "<matplotlib.legend.Legend at 0x15b96db3a00>"
      ]
     },
     "execution_count": 23,
     "metadata": {},
     "output_type": "execute_result"
    },
    {
     "data": {
      "image/png": "[encoded data removed]",
      "text/plain": [
       "<Figure size 432x288 with 1 Axes>"
      ]
     },
     "metadata": {
      "needs_background": "light"
     },
     "output_type": "display_data"
    }
   ],
   "source": [
    "plt.plot(training.history[\"accuracy\"])\n",
    "plt.plot(training.history[\"val_accuracy\"])\n",
    "plt.title(\"accuracy\")\n",
    "plt.xlabel(\"epochs\")\n",
    "plt.ylabel(\"accuracy\")\n",
    "plt.legend([\"train\",\"test\"])"
   ]
  },
  {
   "cell_type": "code",
   "execution_count": 24,
   "id": "34e5cedc",
   "metadata": {},
   "outputs": [
    {
     "data": {
      "text/plain": [
       "<matplotlib.legend.Legend at 0x15b96df7e50>"
      ]
     },
     "execution_count": 24,
     "metadata": {},
     "output_type": "execute_result"
    },
    {
     "data": {
      "image/png": "[encoded data removed]",
      "text/plain": [
       "<Figure size 432x288 with 1 Axes>"
      ]
     },
     "metadata": {
      "needs_background": "light"
     },
     "output_type": "display_data"
    }
   ],
   "source": [
    "plt.plot(training.history[\"loss\"])\n",
    "plt.plot(training.history[\"val_loss\"])\n",
    "plt.title(\"loss\")\n",
    "plt.xlabel(\"epochs\")\n",
    "plt.ylabel(\"loss\")\n",
    "plt.legend([\"train\",\"test\"])"
   ]
  },
  {
   "cell_type": "code",
   "execution_count": 25,
   "id": "b3e4f68f",
   "metadata": {},
   "outputs": [
    {
     "name": "stdout",
     "output_type": "stream",
     "text": [
      "225/225 [==============================] - 0s 2ms/step - loss: 1.0585 - accuracy: 0.6868\n",
      "test_loss 1.0585107803344727 \n",
      " test_accuracy 0.6868376731872559\n"
     ]
    }
   ],
   "source": [
    "test_loss,test_accuracy=model.evaluate(X_test,y_test)\n",
    "print(\"test_loss\",test_loss,\"\\n\",\"test_accuracy\",test_accuracy)"
   ]
  },
  {
   "cell_type": "markdown",
   "id": "12a34933",
   "metadata": {},
   "source": [
    "# CNN"
   ]
  },
  {
   "cell_type": "code",
   "execution_count": 26,
   "id": "228eed5d",
   "metadata": {},
   "outputs": [],
   "source": [
    "from keras.layers import Conv2D,Flatten,MaxPool2D,BatchNormalization,Activation,Dropout\n",
    "from keras import Sequential\n",
    "from keras.preprocessing.image import ImageDataGenerator"
   ]
  },
  {
   "cell_type": "code",
   "execution_count": 27,
   "id": "9b8e201a",
   "metadata": {},
   "outputs": [],
   "source": [
    "X_train=X_train.reshape(-1,28,28,1)\n",
    "X_test=X_test.reshape(-1,28,28,1)"
   ]
  },
  {
   "cell_type": "code",
   "execution_count": 28,
   "id": "a05dbc6d",
   "metadata": {},
   "outputs": [],
   "source": [
    "data_gen=ImageDataGenerator(shear_range=0.2,zoom_range=0.2,horizontal_flip=True)\n",
    "data_gen.fit(X_train)"
   ]
  },
  {
   "cell_type": "code",
   "execution_count": 29,
   "id": "e7e2e43b",
   "metadata": {},
   "outputs": [],
   "source": [
    "model1=Sequential()\n",
    "model1.add(Conv2D(64,(3,3),input_shape=(28,28,1)))\n",
    "model1.add(BatchNormalization())\n",
    "model1.add(Activation(\"relu\"))\n",
    "model1.add(MaxPool2D(2,2))\n",
    "model1.add(Dropout(0.2))\n",
    "\n",
    "model1.add(Conv2D(128,(3,3),input_shape=(28,28,1)))\n",
    "model1.add(BatchNormalization())\n",
    "model1.add(Activation(\"relu\"))\n",
    "model1.add(MaxPool2D(2,2))\n",
    "model1.add(Dropout(0.2))\n",
    "\n",
    "model1.add(Conv2D(256,(3,3),input_shape=(28,28,1)))\n",
    "model1.add(BatchNormalization())\n",
    "model1.add(Activation(\"relu\"))\n",
    "model1.add(MaxPool2D(2,2))\n",
    "model1.add(Dropout(0.2))"
   ]
  },
  {
   "cell_type": "code",
   "execution_count": 30,
   "id": "045d18d3",
   "metadata": {},
   "outputs": [
    {
     "name": "stdout",
     "output_type": "stream",
     "text": [
      "Model: \"sequential_3\"\n",
      "_________________________________________________________________\n",
      " Layer (type)                Output Shape              Param #   \n",
      "=================================================================\n",
      " conv2d (Conv2D)             (None, 26, 26, 64)        640       \n",
      "                                                                 \n",
      " batch_normalization (BatchN  (None, 26, 26, 64)       256       \n",
      " ormalization)                                                   \n",
      "                                                                 \n",
      " activation (Activation)     (None, 26, 26, 64)        0         \n",
      "                                                                 \n",
      " max_pooling2d (MaxPooling2D  (None, 13, 13, 64)       0         \n",
      " )                                                               \n",
      "                                                                 \n",
      " dropout_12 (Dropout)        (None, 13, 13, 64)        0         \n",
      "                                                                 \n",
      " conv2d_1 (Conv2D)           (None, 11, 11, 128)       73856     \n",
      "                                                                 \n",
      " batch_normalization_1 (Batc  (None, 11, 11, 128)      512       \n",
      " hNormalization)                                                 \n",
      "                                                                 \n",
      " activation_1 (Activation)   (None, 11, 11, 128)       0         \n",
      "                                                                 \n",
      " max_pooling2d_1 (MaxPooling  (None, 5, 5, 128)        0         \n",
      " 2D)                                                             \n",
      "                                                                 \n",
      " dropout_13 (Dropout)        (None, 5, 5, 128)         0         \n",
      "                                                                 \n",
      " conv2d_2 (Conv2D)           (None, 3, 3, 256)         295168    \n",
      "                                                                 \n",
      " batch_normalization_2 (Batc  (None, 3, 3, 256)        1024      \n",
      " hNormalization)                                                 \n",
      "                                                                 \n",
      " activation_2 (Activation)   (None, 3, 3, 256)         0         \n",
      "                                                                 \n",
      " max_pooling2d_2 (MaxPooling  (None, 1, 1, 256)        0         \n",
      " 2D)                                                             \n",
      "                                                                 \n",
      " dropout_14 (Dropout)        (None, 1, 1, 256)         0         \n",
      "                                                                 \n",
      "=================================================================\n",
      "Total params: 371,456\n",
      "Trainable params: 370,560\n",
      "Non-trainable params: 896\n",
      "_________________________________________________________________\n"
     ]
    }
   ],
   "source": [
    "model1.summary()"
   ]
  },
  {
   "cell_type": "code",
   "execution_count": 31,
   "id": "18963fea",
   "metadata": {},
   "outputs": [],
   "source": [
    "model1.add(Flatten())\n",
    "model1.add(Dense(128,activation=\"relu\"))\n",
    "model1.add(Dense(25,activation=\"softmax\"))"
   ]
  },
  {
   "cell_type": "code",
   "execution_count": 32,
   "id": "97826d21",
   "metadata": {},
   "outputs": [
    {
     "name": "stdout",
     "output_type": "stream",
     "text": [
      "Model: \"sequential_3\"\n",
      "_________________________________________________________________\n",
      " Layer (type)                Output Shape              Param #   \n",
      "=================================================================\n",
      " conv2d (Conv2D)             (None, 26, 26, 64)        640       \n",
      "                                                                 \n",
      " batch_normalization (BatchN  (None, 26, 26, 64)       256       \n",
      " ormalization)                                                   \n",
      "                                                                 \n",
      " activation (Activation)     (None, 26, 26, 64)        0         \n",
      "                                                                 \n",
      " max_pooling2d (MaxPooling2D  (None, 13, 13, 64)       0         \n",
      " )                                                               \n",
      "                                                                 \n",
      " dropout_12 (Dropout)        (None, 13, 13, 64)        0         \n",
      "                                                                 \n",
      " conv2d_1 (Conv2D)           (None, 11, 11, 128)       73856     \n",
      "                                                                 \n",
      " batch_normalization_1 (Batc  (None, 11, 11, 128)      512       \n",
      " hNormalization)                                                 \n",
      "                                                                 \n",
      " activation_1 (Activation)   (None, 11, 11, 128)       0         \n",
      "                                                                 \n",
      " max_pooling2d_1 (MaxPooling  (None, 5, 5, 128)        0         \n",
      " 2D)                                                             \n",
      "                                                                 \n",
      " dropout_13 (Dropout)        (None, 5, 5, 128)         0         \n",
      "                                                                 \n",
      " conv2d_2 (Conv2D)           (None, 3, 3, 256)         295168    \n",
      "                                                                 \n",
      " batch_normalization_2 (Batc  (None, 3, 3, 256)        1024      \n",
      " hNormalization)                                                 \n",
      "                                                                 \n",
      " activation_2 (Activation)   (None, 3, 3, 256)         0         \n",
      "                                                                 \n",
      " max_pooling2d_2 (MaxPooling  (None, 1, 1, 256)        0         \n",
      " 2D)                                                             \n",
      "                                                                 \n",
      " dropout_14 (Dropout)        (None, 1, 1, 256)         0         \n",
      "                                                                 \n",
      " flatten (Flatten)           (None, 256)               0         \n",
      "                                                                 \n",
      " dense (Dense)               (None, 128)               32896     \n",
      "                                                                 \n",
      " dense_1 (Dense)             (None, 25)                3225      \n",
      "                                                                 \n",
      "=================================================================\n",
      "Total params: 407,577\n",
      "Trainable params: 406,681\n",
      "Non-trainable params: 896\n",
      "_________________________________________________________________\n"
     ]
    }
   ],
   "source": [
    "model1.summary()"
   ]
  },
  {
   "cell_type": "code",
   "execution_count": 33,
   "id": "a29777a2",
   "metadata": {},
   "outputs": [],
   "source": [
    "model1.compile(optimizer=\"adam\",loss=\"categorical_crossentropy\",metrics=[\"accuracy\"])"
   ]
  },
  {
   "cell_type": "code",
   "execution_count": 34,
   "id": "336b0f50",
   "metadata": {},
   "outputs": [
    {
     "name": "stdout",
     "output_type": "stream",
     "text": [
      "Epoch 1/50\n",
      "275/275 [==============================] - 43s 152ms/step - loss: 1.1323 - accuracy: 0.6449 - val_loss: 3.4481 - val_accuracy: 0.1984\n",
      "Epoch 2/50\n",
      "275/275 [==============================] - 48s 173ms/step - loss: 0.2641 - accuracy: 0.9147 - val_loss: 0.8624 - val_accuracy: 0.7499\n",
      "Epoch 3/50\n",
      "275/275 [==============================] - 45s 163ms/step - loss: 0.1334 - accuracy: 0.9589 - val_loss: 0.4510 - val_accuracy: 0.8596\n",
      "Epoch 4/50\n",
      "275/275 [==============================] - 44s 160ms/step - loss: 0.0905 - accuracy: 0.9719 - val_loss: 0.2686 - val_accuracy: 0.9116\n",
      "Epoch 5/50\n",
      "275/275 [==============================] - 43s 156ms/step - loss: 0.0678 - accuracy: 0.9792 - val_loss: 0.2818 - val_accuracy: 0.9030\n",
      "Epoch 6/50\n",
      "275/275 [==============================] - 43s 155ms/step - loss: 0.0525 - accuracy: 0.9832 - val_loss: 0.4994 - val_accuracy: 0.8562\n",
      "Epoch 7/50\n",
      "275/275 [==============================] - 43s 157ms/step - loss: 0.0521 - accuracy: 0.9836 - val_loss: 0.5158 - val_accuracy: 0.8701\n",
      "Epoch 8/50\n",
      "275/275 [==============================] - 43s 155ms/step - loss: 0.0416 - accuracy: 0.9863 - val_loss: 0.3596 - val_accuracy: 0.8825\n",
      "Epoch 9/50\n",
      "275/275 [==============================] - 42s 154ms/step - loss: 0.0378 - accuracy: 0.9880 - val_loss: 0.2583 - val_accuracy: 0.9293\n",
      "Epoch 10/50\n",
      "275/275 [==============================] - 43s 155ms/step - loss: 0.0338 - accuracy: 0.9893 - val_loss: 0.6328 - val_accuracy: 0.8338\n",
      "Epoch 11/50\n",
      "275/275 [==============================] - 43s 157ms/step - loss: 0.0299 - accuracy: 0.9900 - val_loss: 0.2908 - val_accuracy: 0.9041\n",
      "Epoch 12/50\n",
      "275/275 [==============================] - 43s 155ms/step - loss: 0.0394 - accuracy: 0.9869 - val_loss: 1.3412 - val_accuracy: 0.7702\n",
      "Epoch 13/50\n",
      "275/275 [==============================] - 43s 155ms/step - loss: 0.0281 - accuracy: 0.9910 - val_loss: 0.3681 - val_accuracy: 0.9077\n",
      "Epoch 14/50\n",
      "275/275 [==============================] - 43s 157ms/step - loss: 0.0268 - accuracy: 0.9913 - val_loss: 0.3065 - val_accuracy: 0.9144\n",
      "Epoch 15/50\n",
      "275/275 [==============================] - 42s 154ms/step - loss: 0.0261 - accuracy: 0.9919 - val_loss: 1.4714 - val_accuracy: 0.7387\n",
      "Epoch 16/50\n",
      "275/275 [==============================] - 43s 155ms/step - loss: 0.0232 - accuracy: 0.9924 - val_loss: 0.3960 - val_accuracy: 0.8915\n",
      "Epoch 17/50\n",
      "275/275 [==============================] - 43s 155ms/step - loss: 0.0203 - accuracy: 0.9934 - val_loss: 0.8760 - val_accuracy: 0.8186\n",
      "Epoch 18/50\n",
      "275/275 [==============================] - 43s 156ms/step - loss: 0.0235 - accuracy: 0.9919 - val_loss: 0.2308 - val_accuracy: 0.9453\n",
      "Epoch 19/50\n",
      "275/275 [==============================] - 43s 158ms/step - loss: 0.0183 - accuracy: 0.9947 - val_loss: 0.2109 - val_accuracy: 0.9274\n",
      "Epoch 20/50\n",
      "275/275 [==============================] - 47s 169ms/step - loss: 0.0219 - accuracy: 0.9929 - val_loss: 0.5622 - val_accuracy: 0.8596\n",
      "Epoch 21/50\n",
      "275/275 [==============================] - 43s 155ms/step - loss: 0.0233 - accuracy: 0.9929 - val_loss: 0.1701 - val_accuracy: 0.9505\n",
      "Epoch 22/50\n",
      "275/275 [==============================] - 42s 154ms/step - loss: 0.0157 - accuracy: 0.9954 - val_loss: 0.4619 - val_accuracy: 0.8910\n",
      "Epoch 23/50\n",
      "275/275 [==============================] - 44s 160ms/step - loss: 0.0159 - accuracy: 0.9946 - val_loss: 0.4076 - val_accuracy: 0.8843\n",
      "Epoch 24/50\n",
      "275/275 [==============================] - 44s 160ms/step - loss: 0.0180 - accuracy: 0.9940 - val_loss: 0.2379 - val_accuracy: 0.9462\n",
      "Epoch 25/50\n",
      "275/275 [==============================] - 42s 154ms/step - loss: 0.0164 - accuracy: 0.9942 - val_loss: 0.5783 - val_accuracy: 0.8622\n",
      "Epoch 26/50\n",
      "275/275 [==============================] - 43s 158ms/step - loss: 0.0189 - accuracy: 0.9940 - val_loss: 0.2768 - val_accuracy: 0.9364\n",
      "Epoch 27/50\n",
      "275/275 [==============================] - 44s 159ms/step - loss: 0.0194 - accuracy: 0.9936 - val_loss: 0.1955 - val_accuracy: 0.9494\n",
      "Epoch 28/50\n",
      "275/275 [==============================] - 44s 160ms/step - loss: 0.0170 - accuracy: 0.9946 - val_loss: 0.2070 - val_accuracy: 0.9382\n",
      "Epoch 29/50\n",
      "275/275 [==============================] - 44s 160ms/step - loss: 0.0105 - accuracy: 0.9968 - val_loss: 0.1956 - val_accuracy: 0.9509\n",
      "Epoch 30/50\n",
      "275/275 [==============================] - 45s 162ms/step - loss: 0.0124 - accuracy: 0.9958 - val_loss: 0.2659 - val_accuracy: 0.9265\n",
      "Epoch 31/50\n",
      "275/275 [==============================] - 44s 160ms/step - loss: 0.0140 - accuracy: 0.9952 - val_loss: 0.1840 - val_accuracy: 0.9600\n",
      "Epoch 32/50\n",
      "275/275 [==============================] - 42s 153ms/step - loss: 0.0122 - accuracy: 0.9962 - val_loss: 0.3429 - val_accuracy: 0.9202\n",
      "Epoch 33/50\n",
      "275/275 [==============================] - 42s 153ms/step - loss: 0.0109 - accuracy: 0.9967 - val_loss: 0.4234 - val_accuracy: 0.9269\n",
      "Epoch 34/50\n",
      "275/275 [==============================] - 42s 154ms/step - loss: 0.0117 - accuracy: 0.9963 - val_loss: 0.4267 - val_accuracy: 0.9028\n",
      "Epoch 35/50\n",
      "275/275 [==============================] - 42s 154ms/step - loss: 0.0151 - accuracy: 0.9952 - val_loss: 0.3380 - val_accuracy: 0.9080\n",
      "Epoch 36/50\n",
      "275/275 [==============================] - 43s 158ms/step - loss: 0.0137 - accuracy: 0.9955 - val_loss: 0.1261 - val_accuracy: 0.9568\n",
      "Epoch 37/50\n",
      "275/275 [==============================] - 44s 158ms/step - loss: 0.0101 - accuracy: 0.9968 - val_loss: 0.6410 - val_accuracy: 0.8522\n",
      "Epoch 38/50\n",
      "275/275 [==============================] - 46s 165ms/step - loss: 0.0139 - accuracy: 0.9953 - val_loss: 0.3593 - val_accuracy: 0.9017\n",
      "Epoch 39/50\n",
      "275/275 [==============================] - 43s 158ms/step - loss: 0.0101 - accuracy: 0.9970 - val_loss: 0.1932 - val_accuracy: 0.9384\n",
      "Epoch 40/50\n",
      "275/275 [==============================] - 43s 156ms/step - loss: 0.0132 - accuracy: 0.9957 - val_loss: 0.6256 - val_accuracy: 0.8639\n",
      "Epoch 41/50\n",
      "275/275 [==============================] - 43s 158ms/step - loss: 0.0096 - accuracy: 0.9971 - val_loss: 1.0598 - val_accuracy: 0.7995\n",
      "Epoch 42/50\n",
      "275/275 [==============================] - 42s 154ms/step - loss: 0.0107 - accuracy: 0.9968 - val_loss: 0.2636 - val_accuracy: 0.9371\n",
      "Epoch 43/50\n",
      "275/275 [==============================] - 44s 161ms/step - loss: 0.0131 - accuracy: 0.9957 - val_loss: 0.6411 - val_accuracy: 0.8740\n",
      "Epoch 44/50\n",
      "275/275 [==============================] - 43s 158ms/step - loss: 0.0134 - accuracy: 0.9955 - val_loss: 0.1781 - val_accuracy: 0.9580\n",
      "Epoch 45/50\n",
      "275/275 [==============================] - 45s 164ms/step - loss: 0.0130 - accuracy: 0.9962 - val_loss: 0.4784 - val_accuracy: 0.8848\n",
      "Epoch 46/50\n",
      "275/275 [==============================] - 43s 155ms/step - loss: 0.0086 - accuracy: 0.9969 - val_loss: 0.1640 - val_accuracy: 0.9481\n",
      "Epoch 47/50\n",
      "275/275 [==============================] - 43s 155ms/step - loss: 0.0089 - accuracy: 0.9969 - val_loss: 0.1965 - val_accuracy: 0.9444\n",
      "Epoch 48/50\n",
      "275/275 [==============================] - 43s 156ms/step - loss: 0.0069 - accuracy: 0.9979 - val_loss: 0.2784 - val_accuracy: 0.9201\n",
      "Epoch 49/50\n",
      "275/275 [==============================] - 43s 156ms/step - loss: 0.0111 - accuracy: 0.9960 - val_loss: 0.9043 - val_accuracy: 0.8344\n",
      "Epoch 50/50\n",
      "275/275 [==============================] - 43s 155ms/step - loss: 0.0083 - accuracy: 0.9971 - val_loss: 0.1780 - val_accuracy: 0.9573\n"
     ]
    }
   ],
   "source": [
    "training1=model1.fit(data_gen.flow(X_train,y_train,batch_size=100),epochs=50,validation_data=(X_test,y_test))"
   ]
  },
  {
   "cell_type": "code",
   "execution_count": 35,
   "id": "0b9ca503",
   "metadata": {},
   "outputs": [
    {
     "data": {
      "text/plain": [
       "<matplotlib.legend.Legend at 0x15b96f51670>"
      ]
     },
     "execution_count": 35,
     "metadata": {},
     "output_type": "execute_result"
    },
    {
     "data": {
      "image/png": "[encoded data removed]",
      "text/plain": [
       "<Figure size 432x288 with 1 Axes>"
      ]
     },
     "metadata": {
      "needs_background": "light"
     },
     "output_type": "display_data"
    }
   ],
   "source": [
    "plt.plot(training1.history[\"accuracy\"])\n",
    "plt.plot(training1.history[\"val_accuracy\"])\n",
    "plt.title(\"accuracy graph\")\n",
    "plt.legend([\"train\",\"test\"])"
   ]
  },
  {
   "cell_type": "code",
   "execution_count": 36,
   "id": "f21dbe34",
   "metadata": {},
   "outputs": [
    {
     "data": {
      "text/plain": [
       "<matplotlib.legend.Legend at 0x15b95d9b400>"
      ]
     },
     "execution_count": 36,
     "metadata": {},
     "output_type": "execute_result"
    },
    {
     "data": {
      "image/png": "[encoded data removed]",
      "text/plain": [
       "<Figure size 432x288 with 1 Axes>"
      ]
     },
     "metadata": {
      "needs_background": "light"
     },
     "output_type": "display_data"
    }
   ],
   "source": [
    "plt.plot(training1.history[\"loss\"])\n",
    "plt.plot(training1.history[\"val_loss\"])\n",
    "plt.title(\"loss graph\")\n",
    "plt.legend([\"train\",\"test\"])"
   ]
  },
  {
   "cell_type": "code",
   "execution_count": 64,
   "id": "10b91a6f",
   "metadata": {},
   "outputs": [
    {
     "name": "stdout",
     "output_type": "stream",
     "text": [
      "225/225 [==============================] - 2s 9ms/step\n"
     ]
    }
   ],
   "source": [
    "y_pred = model1.predict(X_test)"
   ]
  },
  {
   "cell_type": "code",
   "execution_count": 65,
   "id": "c94af788",
   "metadata": {},
   "outputs": [
    {
     "data": {
      "text/plain": [
       "array([ 6,  5, 10, ...,  2,  4,  2], dtype=int64)"
      ]
     },
     "execution_count": 65,
     "metadata": {},
     "output_type": "execute_result"
    }
   ],
   "source": [
    "y_predic = np.argmax(y_pred, axis=1)\n",
    "y_predic"
   ]
  },
  {
   "cell_type": "code",
   "execution_count": 69,
   "id": "fb0ea773",
   "metadata": {},
   "outputs": [
    {
     "data": {
      "text/plain": [
       "(7172,)"
      ]
     },
     "execution_count": 69,
     "metadata": {},
     "output_type": "execute_result"
    }
   ],
   "source": [
    "y_predic.shape"
   ]
  },
  {
   "cell_type": "code",
   "execution_count": 75,
   "id": "7233c2da",
   "metadata": {},
   "outputs": [
    {
     "data": {
      "text/plain": [
       "(7172, 25)"
      ]
     },
     "execution_count": 75,
     "metadata": {},
     "output_type": "execute_result"
    }
   ],
   "source": [
    "y_test.shape"
   ]
  },
  {
   "cell_type": "code",
   "execution_count": 78,
   "id": "00376856",
   "metadata": {},
   "outputs": [],
   "source": [
    "y_test2= np.argmax(y_test, axis=1)"
   ]
  },
  {
   "cell_type": "code",
   "execution_count": 80,
   "id": "e3e98eb3",
   "metadata": {},
   "outputs": [
    {
     "data": {
      "text/plain": [
       "<sklearn.metrics._plot.confusion_matrix.ConfusionMatrixDisplay at 0x15ba45841f0>"
      ]
     },
     "execution_count": 80,
     "metadata": {},
     "output_type": "execute_result"
    },
    {
     "data": {
      "image/png": "[encoded data removed]",
      "text/plain": [
       "<Figure size 720x720 with 2 Axes>"
      ]
     },
     "metadata": {
      "needs_background": "light"
     },
     "output_type": "display_data"
    }
   ],
   "source": [
    "from sklearn.metrics import confusion_matrix, ConfusionMatrixDisplay\n",
    "cm = confusion_matrix(y_test2,y_predic)\n",
    "disp = ConfusionMatrixDisplay(confusion_matrix=cm)\n",
    "\n",
    "fig, ax = plt.subplots(figsize=(10, 10))\n",
    "disp.plot(ax=ax)"
   ]
  },
  {
   "cell_type": "code",
   "execution_count": 82,
   "id": "4e22b8d2",
   "metadata": {},
   "outputs": [
    {
     "name": "stdout",
     "output_type": "stream",
     "text": [
      "              precision    recall  f1-score   support\n",
      "\n",
      "           0       0.96      1.00      0.98       331\n",
      "           1       0.98      1.00      0.99       432\n",
      "           2       0.94      1.00      0.97       310\n",
      "           3       0.87      1.00      0.93       245\n",
      "           4       1.00      1.00      1.00       498\n",
      "           5       0.91      1.00      0.95       247\n",
      "           6       1.00      0.84      0.91       348\n",
      "           7       0.97      1.00      0.99       436\n",
      "           8       0.98      1.00      0.99       288\n",
      "          10       1.00      0.93      0.96       331\n",
      "          11       0.99      1.00      1.00       209\n",
      "          12       1.00      0.99      0.99       394\n",
      "          13       1.00      0.94      0.97       291\n",
      "          14       0.91      0.92      0.92       246\n",
      "          15       1.00      0.92      0.96       347\n",
      "          16       1.00      1.00      1.00       164\n",
      "          17       0.60      0.97      0.74       144\n",
      "          18       0.99      1.00      0.99       246\n",
      "          19       0.92      0.69      0.79       248\n",
      "          20       0.98      0.95      0.97       266\n",
      "          21       0.94      0.88      0.91       346\n",
      "          22       1.00      1.00      1.00       206\n",
      "          23       0.92      1.00      0.96       267\n",
      "          24       1.00      0.94      0.97       332\n",
      "\n",
      "    accuracy                           0.96      7172\n",
      "   macro avg       0.95      0.96      0.95      7172\n",
      "weighted avg       0.96      0.96      0.96      7172\n",
      "\n"
     ]
    }
   ],
   "source": [
    "from sklearn.metrics import classification_report\n",
    "print(classification_report(y_test2, y_predic))"
   ]
  }
 ],
 "metadata": {
  "kernelspec": {
   "display_name": "Python 3 (ipykernel)",
   "language": "python",
   "name": "python3"
  },
  "language_info": {
   "codemirror_mode": {
    "name": "ipython",
    "version": 3
   },
   "file_extension": ".py",
   "mimetype": "text/x-python",
   "name": "python",
   "nbconvert_exporter": "python",
   "pygments_lexer": "ipython3",
   "version": "3.9.12"
  }
 },
 "nbformat": 4,
 "nbformat_minor": 5
}
