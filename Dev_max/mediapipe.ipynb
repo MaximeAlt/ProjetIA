{
 "cells": [
  {
   "cell_type": "code",
   "execution_count": 2,
   "id": "0198ee26",
   "metadata": {},
   "outputs": [],
   "source": [
    "import numpy as np\n",
    "import pandas as pd\n",
    "import mediapipe as mp\n",
    "import os\n",
    "import cv2"
   ]
  },
  {
   "cell_type": "code",
   "execution_count": 3,
   "id": "a2b4820b",
   "metadata": {},
   "outputs": [],
   "source": [
    "mp_hands = mp.solutions.hands\n",
    "hands = mp_hands.Hands(static_image_mode=True, max_num_hands=2, min_detection_confidence=0.3)"
   ]
  },
  {
   "cell_type": "code",
   "execution_count": 5,
   "id": "0454eb2d",
   "metadata": {},
   "outputs": [],
   "source": [
    "label = ['A', 'B', 'C', 'D','del', 'E', 'F', 'G', 'H', 'I', 'K', 'L', 'M', 'N','nothing', 'O', 'P', 'Q', 'R', 'S','space', 'T', 'U', 'V', 'W', 'X', 'Y']"
   ]
  },
  {
   "cell_type": "code",
   "execution_count": 47,
   "id": "e18f78d4",
   "metadata": {},
   "outputs": [
    {
     "ename": "KeyboardInterrupt",
     "evalue": "",
     "output_type": "error",
     "traceback": [
      "\u001b[1;31m---------------------------------------------------------------------------\u001b[0m",
      "\u001b[1;31mKeyboardInterrupt\u001b[0m                         Traceback (most recent call last)",
      "Input \u001b[1;32mIn [47]\u001b[0m, in \u001b[0;36m<cell line: 4>\u001b[1;34m()\u001b[0m\n\u001b[0;32m     14\u001b[0m image \u001b[38;5;241m=\u001b[39m cv2\u001b[38;5;241m.\u001b[39mflip(image, \u001b[38;5;241m1\u001b[39m)\n\u001b[0;32m     15\u001b[0m \u001b[38;5;66;03m#results = mp_model.process(cv2.cvtColor(image, cv2.COLOR_BGR2RGB))\u001b[39;00m\n\u001b[1;32m---> 18\u001b[0m results \u001b[38;5;241m=\u001b[39m \u001b[43mhands\u001b[49m\u001b[38;5;241;43m.\u001b[39;49m\u001b[43mprocess\u001b[49m\u001b[43m(\u001b[49m\u001b[43mcv2\u001b[49m\u001b[38;5;241;43m.\u001b[39;49m\u001b[43mcvtColor\u001b[49m\u001b[43m(\u001b[49m\u001b[43mimage\u001b[49m\u001b[43m,\u001b[49m\u001b[43m \u001b[49m\u001b[43mcv2\u001b[49m\u001b[38;5;241;43m.\u001b[39;49m\u001b[43mCOLOR_BGR2RGB\u001b[49m\u001b[43m)\u001b[49m\u001b[43m)\u001b[49m\n\u001b[0;32m     19\u001b[0m coord_list \u001b[38;5;241m=\u001b[39m [filename[\u001b[38;5;241m0\u001b[39m]]\n\u001b[0;32m     22\u001b[0m \u001b[38;5;28;01mif\u001b[39;00m results\u001b[38;5;241m.\u001b[39mmulti_hand_landmarks:\n",
      "File \u001b[1;32mC:\\ProgramData\\Anaconda3\\lib\\site-packages\\mediapipe\\python\\solutions\\hands.py:153\u001b[0m, in \u001b[0;36mHands.process\u001b[1;34m(self, image)\u001b[0m\n\u001b[0;32m    132\u001b[0m \u001b[38;5;28;01mdef\u001b[39;00m \u001b[38;5;21mprocess\u001b[39m(\u001b[38;5;28mself\u001b[39m, image: np\u001b[38;5;241m.\u001b[39mndarray) \u001b[38;5;241m-\u001b[39m\u001b[38;5;241m>\u001b[39m NamedTuple:\n\u001b[0;32m    133\u001b[0m   \u001b[38;5;124;03m\"\"\"Processes an RGB image and returns the hand landmarks and handedness of each detected hand.\u001b[39;00m\n\u001b[0;32m    134\u001b[0m \n\u001b[0;32m    135\u001b[0m \u001b[38;5;124;03m  Args:\u001b[39;00m\n\u001b[1;32m   (...)\u001b[0m\n\u001b[0;32m    150\u001b[0m \u001b[38;5;124;03m         right hand) of the detected hand.\u001b[39;00m\n\u001b[0;32m    151\u001b[0m \u001b[38;5;124;03m  \"\"\"\u001b[39;00m\n\u001b[1;32m--> 153\u001b[0m   \u001b[38;5;28;01mreturn\u001b[39;00m \u001b[38;5;28;43msuper\u001b[39;49m\u001b[43m(\u001b[49m\u001b[43m)\u001b[49m\u001b[38;5;241;43m.\u001b[39;49m\u001b[43mprocess\u001b[49m\u001b[43m(\u001b[49m\u001b[43minput_data\u001b[49m\u001b[38;5;241;43m=\u001b[39;49m\u001b[43m{\u001b[49m\u001b[38;5;124;43m'\u001b[39;49m\u001b[38;5;124;43mimage\u001b[39;49m\u001b[38;5;124;43m'\u001b[39;49m\u001b[43m:\u001b[49m\u001b[43m \u001b[49m\u001b[43mimage\u001b[49m\u001b[43m}\u001b[49m\u001b[43m)\u001b[49m\n",
      "File \u001b[1;32mC:\\ProgramData\\Anaconda3\\lib\\site-packages\\mediapipe\\python\\solution_base.py:365\u001b[0m, in \u001b[0;36mSolutionBase.process\u001b[1;34m(self, input_data)\u001b[0m\n\u001b[0;32m    359\u001b[0m   \u001b[38;5;28;01melse\u001b[39;00m:\n\u001b[0;32m    360\u001b[0m     \u001b[38;5;28mself\u001b[39m\u001b[38;5;241m.\u001b[39m_graph\u001b[38;5;241m.\u001b[39madd_packet_to_input_stream(\n\u001b[0;32m    361\u001b[0m         stream\u001b[38;5;241m=\u001b[39mstream_name,\n\u001b[0;32m    362\u001b[0m         packet\u001b[38;5;241m=\u001b[39m\u001b[38;5;28mself\u001b[39m\u001b[38;5;241m.\u001b[39m_make_packet(input_stream_type,\n\u001b[0;32m    363\u001b[0m                                  data)\u001b[38;5;241m.\u001b[39mat(\u001b[38;5;28mself\u001b[39m\u001b[38;5;241m.\u001b[39m_simulated_timestamp))\n\u001b[1;32m--> 365\u001b[0m \u001b[38;5;28;43mself\u001b[39;49m\u001b[38;5;241;43m.\u001b[39;49m\u001b[43m_graph\u001b[49m\u001b[38;5;241;43m.\u001b[39;49m\u001b[43mwait_until_idle\u001b[49m\u001b[43m(\u001b[49m\u001b[43m)\u001b[49m\n\u001b[0;32m    366\u001b[0m \u001b[38;5;66;03m# Create a NamedTuple object where the field names are mapping to the graph\u001b[39;00m\n\u001b[0;32m    367\u001b[0m \u001b[38;5;66;03m# output stream names.\u001b[39;00m\n\u001b[0;32m    368\u001b[0m solution_outputs \u001b[38;5;241m=\u001b[39m collections\u001b[38;5;241m.\u001b[39mnamedtuple(\n\u001b[0;32m    369\u001b[0m     \u001b[38;5;124m'\u001b[39m\u001b[38;5;124mSolutionOutputs\u001b[39m\u001b[38;5;124m'\u001b[39m, \u001b[38;5;28mself\u001b[39m\u001b[38;5;241m.\u001b[39m_output_stream_type_info\u001b[38;5;241m.\u001b[39mkeys())\n",
      "\u001b[1;31mKeyboardInterrupt\u001b[0m: "
     ]
    }
   ],
   "source": [
    "from PIL import Image\n",
    "import csv\n",
    "\n",
    "for l in label:\n",
    "    \n",
    "    dataset_directory_prefix = 'C:/Users/Maxime.ALTER/ProjetIA/ProjetIA/Dev_tib/photos_asl/asl_alphabet_train/asl_alphabet_train/'\n",
    "    #dataset_directory_prefix = r'C:/Users/Panah/OneDrive/Bureau/data/asl_alphabet_train/asl_alphabet_train/'\n",
    "    for dirname, _, filenames in os.walk(dataset_directory_prefix + l):\n",
    "        \n",
    "        for filename in filenames:\n",
    "            pathname = os.path.join(dirname, filename)\n",
    "            \n",
    "            image = cv2.imread(pathname)\n",
    "            image = cv2.flip(image, 1)\n",
    "            #results = mp_model.process(cv2.cvtColor(image, cv2.COLOR_BGR2RGB))\n",
    "                      \n",
    "            \n",
    "            results = hands.process(cv2.cvtColor(image, cv2.COLOR_BGR2RGB))\n",
    "            coord_list = [filename[0]]\n",
    "            \n",
    "\n",
    "            if results.multi_hand_landmarks:\n",
    "                \n",
    "               for hand_no, hand_landmarks in enumerate(results.multi_hand_landmarks):\n",
    "                    #print(f'HAND NUMBER: {hand_no+1}')\n",
    "                    #print('-----------------------')\n",
    "                     \n",
    "                    for i in range(21):\n",
    "                        name = mp_hands.HandLandmark(i).name\n",
    "                        x = hand_landmarks.landmark[mp_hands.HandLandmark(i).value].x\n",
    "                        y = hand_landmarks.landmark[mp_hands.HandLandmark(i).value].y\n",
    "                        z = hand_landmarks.landmark[mp_hands.HandLandmark(i).value].z\n",
    "                        \n",
    "                        #coord_list.append(name)\n",
    "                        coord_list.append(x)\n",
    "                        coord_list.append(y)\n",
    "                        coord_list.append(z)\n",
    "                        \n",
    "                    with open(r'C:\\Users\\Maxime.ALTER\\ProjetIA\\ProjetIA\\Dev_max\\landmark.csv', 'a', newline='') as csvfile:\n",
    "                        writer = csv.writer(csvfile)\n",
    "                        writer.writerow(coord_list)\n",
    "                                       \n",
    "                        \n",
    "                \n",
    "                \n",
    "                \n",
    "                \n",
    "           #for hand_landmark in results.multi_hand_landmarks:\n",
    "           #    for lm in landm:\n",
    "           #        print(landmark)\n",
    "           #        landmark = []                    \n",
    "           #        landmark.append(hand_landmarks.landmark[mp_hands.HandLandmark.lm])\n",
    "        \n",
    "           # we can get points using mp_hands\n",
    "           #print(f'Ring finger tip coordinates: (',\n",
    "           #  f'{hand_landmarks.landmark[mp_hands.HandLandmark.RING_FINGER_TIP]},'\n",
    "           #  f'{hand_landmarks.landmark[mp_hands.HandLandmark.RING_FINGER_TIP]}'\n",
    "           #  )\n",
    "            \n",
    "            # Écrire les valeurs des pixels dans un fichier CSV\n",
    "            #with open('C:\\Users\\Maxime.ALTER\\ProjetIA\\ProjetIA\\Dev_max\\landmark.csv', 'w', newline='') as csvfile:\n",
    "            #    writer = csv.writer(csvfile)\n",
    "\n",
    "            #    # Écrire les valeurs des pixels dans une seule ligne du fichier CSV\n",
    "            #    writer.writerow(pixel_values)"
   ]
  }
 ],
 "metadata": {
  "kernelspec": {
   "display_name": "Python 3 (ipykernel)",
   "language": "python",
   "name": "python3"
  },
  "language_info": {
   "codemirror_mode": {
    "name": "ipython",
    "version": 3
   },
   "file_extension": ".py",
   "mimetype": "text/x-python",
   "name": "python",
   "nbconvert_exporter": "python",
   "pygments_lexer": "ipython3",
   "version": "3.9.12"
  }
 },
 "nbformat": 4,
 "nbformat_minor": 5
}
