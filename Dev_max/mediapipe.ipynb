{
 "cells": [
  {
   "cell_type": "code",
   "execution_count": 4,
   "id": "0198ee26",
   "metadata": {},
   "outputs": [],
   "source": [
    "import numpy as np\n",
    "import pandas as pd\n",
    "import mediapipe as mp\n",
    "import os\n",
    "import cv2"
   ]
  },
  {
   "cell_type": "code",
   "execution_count": 5,
   "id": "a2b4820b",
   "metadata": {},
   "outputs": [],
   "source": [
    "mp_hands = mp.solutions.hands\n",
    "hands = mp_hands.Hands(static_image_mode=True, max_num_hands=2, min_detection_confidence=0.3)"
   ]
  },
  {
   "cell_type": "code",
   "execution_count": 6,
   "id": "0454eb2d",
   "metadata": {},
   "outputs": [],
   "source": [
    "label = ['A', 'B', 'C', 'D','del', 'E', 'F', 'G', 'H', 'I', 'K', 'L', 'M', 'N','nothing', 'O', 'P', 'Q', 'R', 'S','space', 'T', 'U', 'V', 'W', 'X', 'Y']"
   ]
  },
  {
   "cell_type": "code",
   "execution_count": 9,
   "id": "e18f78d4",
   "metadata": {},
   "outputs": [],
   "source": [
    "from PIL import Image\n",
    "import csv\n",
    "\n",
    "for l in label:\n",
    "    \n",
    "    #dataset_directory_prefix = 'C:/Users/Maxime.ALTER/ProjetIA/ProjetIA/Dev_tib/photos_asl/asl_alphabet_train/asl_alphabet_train/'\n",
    "    dataset_directory_prefix = r'C:/Users/Panah/OneDrive/Bureau/data/asl_alphabet_train/asl_alphabet_train/'\n",
    "    for dirname, _, filenames in os.walk(dataset_directory_prefix + l):\n",
    "        \n",
    "        for filename in filenames:\n",
    "            pathname = os.path.join(dirname, filename)\n",
    "            \n",
    "            image = cv2.imread(pathname)\n",
    "            image = cv2.flip(image, 1)\n",
    "            #results = mp_model.process(cv2.cvtColor(image, cv2.COLOR_BGR2RGB))\n",
    "                      \n",
    "            \n",
    "            results = hands.process(cv2.cvtColor(image, cv2.COLOR_BGR2RGB))\n",
    "            coord_list = [filename[0]]\n",
    "            \n",
    "\n",
    "            if results.multi_hand_landmarks:\n",
    "                \n",
    "               for hand_no, hand_landmarks in enumerate(results.multi_hand_landmarks):\n",
    "                    #print(f'HAND NUMBER: {hand_no+1}')\n",
    "                    #print('-----------------------')\n",
    "                     \n",
    "                    for i in range(21):\n",
    "                        name = mp_hands.HandLandmark(i).name\n",
    "                        x = hand_landmarks.landmark[mp_hands.HandLandmark(i).value].x\n",
    "                        y = hand_landmarks.landmark[mp_hands.HandLandmark(i).value].y\n",
    "                        z = hand_landmarks.landmark[mp_hands.HandLandmark(i).value].z\n",
    "                        \n",
    "                        #coord_list.append(name)\n",
    "                        coord_list.append(x)\n",
    "                        coord_list.append(y)\n",
    "                        coord_list.append(z)\n",
    "                        \n",
    "                    with open(r'C:/Users/Panah\\Cours/Cour IA/ProjetIA/Dev_max/landmark3.csv', 'a', newline='') as csvfile:\n",
    "                        writer = csv.writer(csvfile)\n",
    "                        writer.writerow(coord_list)\n",
    "                                       \n",
    "                        \n",
    "                \n",
    "                \n",
    "                \n",
    "                \n",
    "           #for hand_landmark in results.multi_hand_landmarks:\n",
    "           #    for lm in landm:\n",
    "           #        print(landmark)\n",
    "           #        landmark = []                    \n",
    "           #        landmark.append(hand_landmarks.landmark[mp_hands.HandLandmark.lm])\n",
    "        \n",
    "           # we can get points using mp_hands\n",
    "           #print(f'Ring finger tip coordinates: (',\n",
    "           #  f'{hand_landmarks.landmark[mp_hands.HandLandmark.RING_FINGER_TIP]},'\n",
    "           #  f'{hand_landmarks.landmark[mp_hands.HandLandmark.RING_FINGER_TIP]}'\n",
    "           #  )\n",
    "            \n",
    "            # Écrire les valeurs des pixels dans un fichier CSV\n",
    "            #with open('C:\\Users\\Maxime.ALTER\\ProjetIA\\ProjetIA\\Dev_max\\landmark.csv', 'w', newline='') as csvfile:\n",
    "            #    writer = csv.writer(csvfile)\n",
    "\n",
    "            #    # Écrire les valeurs des pixels dans une seule ligne du fichier CSV\n",
    "            #    writer.writerow(pixel_values)"
   ]
  }
 ],
 "metadata": {
  "kernelspec": {
   "display_name": "Python 3 (ipykernel)",
   "language": "python",
   "name": "python3"
  },
  "language_info": {
   "codemirror_mode": {
    "name": "ipython",
    "version": 3
   },
   "file_extension": ".py",
   "mimetype": "text/x-python",
   "name": "python",
   "nbconvert_exporter": "python",
   "pygments_lexer": "ipython3",
   "version": "3.9.13"
  }
 },
 "nbformat": 4,
 "nbformat_minor": 5
}
