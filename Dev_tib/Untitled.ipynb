{
 "cells": [
  {
   "cell_type": "code",
   "execution_count": 9,
   "id": "c6e1cf37",
   "metadata": {},
   "outputs": [
    {
     "name": "stdout",
     "output_type": "stream",
     "text": [
      "Please enter a number: 4\n",
      "The number you entered is not 3.\n",
      "Please enter a number: 6\n",
      "The number you entered is not 3.\n",
      "Please enter a number: 1\n",
      "The number you entered is not 3.\n",
      "Please enter a number: 3\n"
     ]
    }
   ],
   "source": [
    "# Import the Image class from the PIL (Python Imaging Library) module\n",
    "from PIL import Image\n",
    "\n",
    "# Ask the user to input a number\n",
    "while True:\n",
    "  number = input(\"Please enter a number: \")\n",
    "  # Check if the number is 3\n",
    "  if number == \"3\":\n",
    "    image = Image.open('image.png')\n",
    "    image.show()\n",
    "    break\n",
    "  else:\n",
    "    # If the number is not 3, print a message\n",
    "    print(\"The number you entered is not 3.\")\n"
   ]
  },
  {
   "cell_type": "code",
   "execution_count": 13,
   "id": "42debcb2",
   "metadata": {},
   "outputs": [
    {
     "name": "stdout",
     "output_type": "stream",
     "text": [
      "Please enter a number: 3\n",
      "Sheets in workbook:\n",
      "- Feuil1\n"
     ]
    }
   ],
   "source": [
    "# Import the openpyxl module\n",
    "import openpyxl\n",
    "\n",
    "# Ask the user to input a number\n",
    "while True:\n",
    "  number = input(\"Please enter a number: \")\n",
    "  # Check if the number is 3\n",
    "  if number == \"3\":\n",
    "    # If the number is 3, open the Excel file\n",
    "    wb = openpyxl.load_workbook(\"file.xlsx\")\n",
    "    # Print the names of the sheets in the workbook\n",
    "    print(\"Sheets in workbook:\")\n",
    "    for sheet in wb.worksheets:\n",
    "      print(\"- \" + sheet.title)\n",
    "    break\n",
    "  else:\n",
    "    # If the number is not 3, print a message\n",
    "    print(\"The number you entered is not 3.\")\n"
   ]
  },
  {
   "cell_type": "code",
   "execution_count": 24,
   "id": "be601487",
   "metadata": {},
   "outputs": [
    {
     "name": "stdout",
     "output_type": "stream",
     "text": [
      "Entrez le nombre que vous souhaitez utilise comme mot de passe: 3\n",
      "Entrez un nombre pour lancer le code: 2\n",
      "Le nombre que vous avez rentré n'est pas le code.\n",
      "Entrez un nombre pour lancer le code: 2\n",
      "Le nombre que vous avez rentré n'est pas le code.\n",
      "Entrez un nombre pour lancer le code: 1\n",
      "Le nombre que vous avez rentré n'est pas le code.\n",
      "Entrez un nombre pour lancer le code: 6\n",
      "Le nombre que vous avez rentré n'est pas le code.\n",
      "Entrez un nombre pour lancer le code: 2\n",
      "Le nombre que vous avez rentré n'est pas le code.\n",
      "Entrez un nombre pour lancer le code: 3\n"
     ]
    }
   ],
   "source": [
    "# Import the openpyxl module\n",
    "import openpyxl\n",
    "\n",
    "\n",
    "code = input(\"Entrez le nombre que vous souhaitez utilise comme mot de passe: \")\n",
    "# Ask the user to input a number\n",
    "while True:\n",
    "  number = input(\"Entrez un nombre pour lancer le code: \")\n",
    "  # Check if the number is 3\n",
    "  if number == code:\n",
    "    # If the number is 3, open the Excel file\n",
    "    wb = openpyxl.load_workbook(\"file.xlsx\")\n",
    "    # Open the worksheet with the name \"Sheet1\"\n",
    "#     worksheet = wb.get_sheet_by_name(\"Feuil1\")\n",
    "    worksheet = wb[\"Feuil1\"]\n",
    "    # Write the string to cell A1 in the worksheet, including the value of the number variable\n",
    "    last_row = worksheet.max_row\n",
    "    \n",
    "    worksheet.cell(row=last_row+1,column=1).value = f\"Vous avez utilise la lettre : {number} pour entrer dans la feuille excel\"\n",
    "    # Save the changes to the Excel file\n",
    "    wb.save(\"file.xlsx\")\n",
    "    break\n",
    "  else:\n",
    "    # If the number is not 3, print a message\n",
    "    print(\"Le nombre que vous avez rentré n'est pas le code.\")\n"
   ]
  }
 ],
 "metadata": {
  "kernelspec": {
   "display_name": "Python 3 (ipykernel)",
   "language": "python",
   "name": "python3"
  },
  "language_info": {
   "codemirror_mode": {
    "name": "ipython",
    "version": 3
   },
   "file_extension": ".py",
   "mimetype": "text/x-python",
   "name": "python",
   "nbconvert_exporter": "python",
   "pygments_lexer": "ipython3",
   "version": "3.9.13"
  }
 },
 "nbformat": 4,
 "nbformat_minor": 5
}
