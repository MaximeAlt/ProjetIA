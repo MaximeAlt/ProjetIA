{
 "cells": [
  {
   "cell_type": "code",
   "execution_count": 1,
   "id": "b6d14246",
   "metadata": {},
   "outputs": [],
   "source": [
    "import cv2\n",
    "\n",
    "# Ouvrir la caméra de l'ordinateur\n",
    "camera = cv2.VideoCapture(0)\n",
    "\n",
    "# Prendre une photo\n",
    "ret, frame = camera.read()\n",
    "\n",
    "# Sauvegarder la photo\n",
    "cv2.imwrite('ma_photo.jpg', frame)\n",
    "\n",
    "# Fermer la caméra\n",
    "camera.release()"
   ]
  },
  {
   "cell_type": "code",
   "execution_count": 6,
   "id": "1720595b",
   "metadata": {},
   "outputs": [
    {
     "data": {
      "text/plain": [
       "(28, 28)"
      ]
     },
     "execution_count": 6,
     "metadata": {},
     "output_type": "execute_result"
    }
   ],
   "source": [
    "from PIL import Image\n",
    "import csv\n",
    "# Ouvrir l'image\n",
    "image = Image.open('ma_photo.jpg')\n",
    "\n",
    "# Redimensionner l'image\n",
    "width, height = image.size\n",
    "new_width = 28\n",
    "new_height = 28\n",
    "resized_image = image.resize((new_width, new_height))\n",
    "\n",
    "# Sauvegarder l'image redimensionnée\n",
    "resized_image.save('mon_image_redimensionnee.jpg')\n",
    "\n",
    "# Récupérer les valeurs de chaque pixel de l'image\n",
    "width, height = resized_image.size\n",
    "pixels = resized_image.load()\n",
    "\n",
    "# Écrire les valeurs des pixels dans un fichier CSV\n",
    "with open('mon_image.csv', 'w', newline='') as csvfile:\n",
    "    writer = csv.writer(csvfile)\n",
    "    for x in range(width):\n",
    "        for y in range(height):\n",
    "            writer.writerow(pixels[x, y])\n",
    "    "
   ]
  }
 ],
 "metadata": {
  "kernelspec": {
   "display_name": "Python 3 (ipykernel)",
   "language": "python",
   "name": "python3"
  },
  "language_info": {
   "codemirror_mode": {
    "name": "ipython",
    "version": 3
   },
   "file_extension": ".py",
   "mimetype": "text/x-python",
   "name": "python",
   "nbconvert_exporter": "python",
   "pygments_lexer": "ipython3",
   "version": "3.9.13"
  }
 },
 "nbformat": 4,
 "nbformat_minor": 5
}
