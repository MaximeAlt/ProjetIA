{
 "cells": [
  {
   "cell_type": "code",
   "execution_count": 2,
   "id": "04fbaf12",
   "metadata": {},
   "outputs": [
    {
     "name": "stdout",
     "output_type": "stream",
     "text": [
      "Collecting opencv-python\n",
      "  Downloading opencv_python-4.6.0.66-cp36-abi3-win_amd64.whl (35.6 MB)\n",
      "     ---------------------------------------- 35.6/35.6 MB 6.5 MB/s eta 0:00:00\n",
      "Requirement already satisfied: numpy>=1.14.5 in c:\\users\\thiba\\anaconda3\\lib\\site-packages (from opencv-python) (1.21.5)\n",
      "Installing collected packages: opencv-python\n",
      "Successfully installed opencv-python-4.6.0.66\n",
      "Note: you may need to restart the kernel to use updated packages.\n"
     ]
    }
   ],
   "source": [
    "pip install opencv-python"
   ]
  },
  {
   "cell_type": "code",
   "execution_count": 6,
   "id": "a5c6042d",
   "metadata": {},
   "outputs": [],
   "source": [
    "import cv2\n",
    "\n",
    "# Ouvrir la caméra de l'ordinateur\n",
    "camera = cv2.VideoCapture(0)\n",
    "\n",
    "# Prendre une photo\n",
    "ret, frame = camera.read()\n",
    "\n",
    "# Sauvegarder la photo\n",
    "cv2.imwrite('mon_image.jpg', frame)\n",
    "\n",
    "# Fermer la caméra\n",
    "camera.release()\n",
    "\n",
    "image = Image.open('mon_image.jpg')\n",
    "\n",
    "# Convertir l'image en niveaux de gris\n",
    "gray_image = image.convert('L')\n",
    "\n",
    "# Redimensionner l'image\n",
    "width, height = gray_image.size\n",
    "new_width = 200\n",
    "new_height = 200\n",
    "resized_image = gray_image.resize((new_width, new_height))\n",
    "\n",
    "resized_image.save('test.jpg')"
   ]
  },
  {
   "cell_type": "code",
   "execution_count": 4,
   "id": "7c309421",
   "metadata": {},
   "outputs": [],
   "source": [
    "from PIL import Image\n",
    "import csv\n",
    "\n",
    "# Ouvrir l'image\n",
    "image = Image.open('mon_image.jpg')\n",
    "\n",
    "# Convertir l'image en niveaux de gris\n",
    "gray_image = image.convert('L')\n",
    "\n",
    "# Redimensionner l'image\n",
    "width, height = gray_image.size\n",
    "new_width = 200\n",
    "new_height = 200\n",
    "resized_image = gray_image.resize((new_width, new_height))\n",
    "\n",
    "resized_image.save('test.jpg')\n",
    "# Récupérer les valeurs de chaque pixel de l'image\n",
    "pixels = resized_image.load()\n",
    "\n",
    "# Écrire les valeurs des pixels dans un fichier CSV\n",
    "with open('mon_image.csv', 'w', newline='') as csvfile:\n",
    "    writer = csv.writer(csvfile)\n",
    "\n",
    "    # Créer une liste contenant les valeurs de chaque pixel\n",
    "    pixel_values = [pixels[x, y] for x in range(new_width) for y in range(new_height)]\n",
    "\n",
    "    # Écrire les valeurs des pixels dans une seule ligne du fichier CSV\n",
    "    writer.writerow(pixel_values)\n"
   ]
  },
  {
   "cell_type": "code",
   "execution_count": 3,
   "id": "0cde66af",
   "metadata": {
    "scrolled": true
   },
   "outputs": [],
   "source": [
    "from PIL import Image"
   ]
  },
  {
   "cell_type": "code",
   "execution_count": 1,
   "id": "775a9b37",
   "metadata": {},
   "outputs": [
    {
     "name": "stdout",
     "output_type": "stream",
     "text": [
      "Requirement already satisfied: keras in c:\\users\\thiba\\anaconda3\\lib\\site-packages (2.9.0)\n",
      "Note: you may need to restart the kernel to use updated packages.\n"
     ]
    },
    {
     "name": "stderr",
     "output_type": "stream",
     "text": [
      "ERROR: Could not find a version that satisfies the requirement version==2.9.1 (from versions: 0.1.0, 0.1.1)\n",
      "ERROR: No matching distribution found for version==2.9.1\n"
     ]
    }
   ],
   "source": []
  }
 ],
 "metadata": {
  "kernelspec": {
   "display_name": "Python 3 (ipykernel)",
   "language": "python",
   "name": "python3"
  },
  "language_info": {
   "codemirror_mode": {
    "name": "ipython",
    "version": 3
   },
   "file_extension": ".py",
   "mimetype": "text/x-python",
   "name": "python",
   "nbconvert_exporter": "python",
   "pygments_lexer": "ipython3",
   "version": "3.9.13"
  }
 },
 "nbformat": 4,
 "nbformat_minor": 5
}
