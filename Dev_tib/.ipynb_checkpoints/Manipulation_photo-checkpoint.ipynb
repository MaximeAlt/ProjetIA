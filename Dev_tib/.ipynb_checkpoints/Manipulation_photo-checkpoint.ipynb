{
 "cells": [
  {
   "cell_type": "code",
   "execution_count": 42,
   "id": "a5c6042d",
   "metadata": {},
   "outputs": [],
   "source": [
    "import cv2\n",
    "\n",
    "# Ouvrir la caméra de l'ordinateur\n",
    "camera = cv2.VideoCapture(0)\n",
    "\n",
    "# Prendre une photo\n",
    "ret, frame = camera.read()\n",
    "\n",
    "# Sauvegarder la photo\n",
    "cv2.imwrite('mon_image.jpg', frame)\n",
    "\n",
    "# Fermer la caméra\n",
    "camera.release()"
   ]
  },
  {
   "cell_type": "code",
   "execution_count": 44,
   "id": "7c309421",
   "metadata": {},
   "outputs": [],
   "source": [
    "from PIL import Image\n",
    "import csv\n",
    "\n",
    "# Ouvrir l'image\n",
    "image = Image.open('mon_image.jpg')\n",
    "\n",
    "# Convertir l'image en niveaux de gris\n",
    "gray_image = image.convert('L')\n",
    "\n",
    "# Redimensionner l'image\n",
    "width, height = gray_image.size\n",
    "new_width = 28\n",
    "new_height = 28\n",
    "resized_image = gray_image.resize((new_width, new_height))\n",
    "\n",
    "resized_image.save('test.jpg')\n",
    "# Récupérer les valeurs de chaque pixel de l'image\n",
    "pixels = resized_image.load()\n",
    "\n",
    "# Écrire les valeurs des pixels dans un fichier CSV\n",
    "with open('mon_image.csv', 'w', newline='') as csvfile:\n",
    "    writer = csv.writer(csvfile)\n",
    "\n",
    "    # Créer une liste contenant les valeurs de chaque pixel\n",
    "    pixel_values = [pixels[x, y] for x in range(new_width) for y in range(new_height)]\n",
    "\n",
    "    # Écrire les valeurs des pixels dans une seule ligne du fichier CSV\n",
    "    writer.writerow(pixel_values)\n"
   ]
  },
  {
   "cell_type": "code",
   "execution_count": 1,
   "id": "3888b833",
   "metadata": {},
   "outputs": [
    {
     "ename": "ModuleNotFoundError",
     "evalue": "No module named 'tensorflow'",
     "output_type": "error",
     "traceback": [
      "\u001b[1;31m---------------------------------------------------------------------------\u001b[0m",
      "\u001b[1;31mModuleNotFoundError\u001b[0m                       Traceback (most recent call last)",
      "Cell \u001b[1;32mIn [1], line 1\u001b[0m\n\u001b[1;32m----> 1\u001b[0m \u001b[38;5;28;01mimport\u001b[39;00m \u001b[38;5;21;01mtensorflow\u001b[39;00m \u001b[38;5;28;01mas\u001b[39;00m \u001b[38;5;21;01mtf\u001b[39;00m\n\u001b[0;32m      2\u001b[0m \u001b[38;5;28mprint\u001b[39m(tf\u001b[38;5;241m.\u001b[39mversion)\n",
      "\u001b[1;31mModuleNotFoundError\u001b[0m: No module named 'tensorflow'"
     ]
    }
   ],
   "source": [
    "import tensorflow as tf\n",
    "print(tf.version)"
   ]
  }
 ],
 "metadata": {
  "kernelspec": {
   "display_name": "Python 3 (ipykernel)",
   "language": "python",
   "name": "python3"
  },
  "language_info": {
   "codemirror_mode": {
    "name": "ipython",
    "version": 3
   },
   "file_extension": ".py",
   "mimetype": "text/x-python",
   "name": "python",
   "nbconvert_exporter": "python",
   "pygments_lexer": "ipython3",
   "version": "3.9.12"
  }
 },
 "nbformat": 4,
 "nbformat_minor": 5
}
