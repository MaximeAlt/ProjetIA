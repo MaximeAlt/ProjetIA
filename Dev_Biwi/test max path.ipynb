{
 "cells": [
  {
   "cell_type": "code",
   "execution_count": 10,
   "id": "c08241c1",
   "metadata": {},
   "outputs": [],
   "source": [
    "import numpy as np\n",
    "import pandas as pd\n",
    "import os\n",
    "import cv2\n",
    "from os import walk\n",
    "from PIL import Image"
   ]
  },
  {
   "cell_type": "code",
   "execution_count": 3,
   "id": "ed6d67d4",
   "metadata": {},
   "outputs": [],
   "source": [
    "path = r\"C:/Users/Maxime.ALTER/ProjetIA/ProjetIA/Dev_Biwi/images-ind_alphabet/\""
   ]
  },
  {
   "cell_type": "code",
   "execution_count": 4,
   "id": "9d8518ca",
   "metadata": {},
   "outputs": [
    {
     "name": "stdout",
     "output_type": "stream",
     "text": [
      "['A_0.png', 'B_1.png', 'C_2.png', 'D_3.png', 'E_4.png', 'F_5.png', 'G_6.png', 'H_7.png', 'I_8.png', 'K_9.png', 'L_10.png', 'M_11.png', 'N_12.png', 'O_13.png', 'P_14.png', 'Q_15.png', 'R_16.png', 'S_17.png', 'T_18.png', 'U_19.png', 'V_20.png', 'W_21.png', 'X_22.png', 'Y_23.png']\n"
     ]
    }
   ],
   "source": [
    "listeFichiers = []\n",
    "for (repertoire, sousRepertoires, fichiers) in walk(path):\n",
    "    listeFichiers.extend(fichiers)\n",
    "    print(listeFichiers)\n"
   ]
  },
  {
   "cell_type": "code",
   "execution_count": 16,
   "id": "4c26d927",
   "metadata": {},
   "outputs": [],
   "source": [
    "for l in listeFichiers:\n",
    "    \n",
    "    image_path = path + l\n",
    "    image = Image.open(image_path)\n",
    "    width, height = image.size\n",
    "    new_width = 28\n",
    "    new_height = 28\n",
    "    resized_image = image.resize((new_width, new_height))\n",
    "    resized_image.save(path + 'resized_image' + l)"
   ]
  }
 ],
 "metadata": {
  "kernelspec": {
   "display_name": "Python 3 (ipykernel)",
   "language": "python",
   "name": "python3"
  },
  "language_info": {
   "codemirror_mode": {
    "name": "ipython",
    "version": 3
   },
   "file_extension": ".py",
   "mimetype": "text/x-python",
   "name": "python",
   "nbconvert_exporter": "python",
   "pygments_lexer": "ipython3",
   "version": "3.9.12"
  }
 },
 "nbformat": 4,
 "nbformat_minor": 5
}
